{
 "cells": [
  {
   "cell_type": "code",
   "execution_count": 108,
   "metadata": {},
   "outputs": [],
   "source": [
    "import os\n",
    "from langchain.chat_models import ChatOpenAI\n",
    "from langchain.output_parsers import StructuredOutputParser, ResponseSchema\n",
    "from langchain.memory import ConversationBufferMemory\n",
    "from langchain.chains.llm import LLMChain\n",
    "from langchain.chains import ConversationChain\n",
    "from langchain.schema import AIMessage, HumanMessage, SystemMessage, messages_from_dict\n",
    "\n",
    "from langchain.prompts import (\n",
    "    SystemMessagePromptTemplate,\n",
    "    HumanMessagePromptTemplate,\n",
    "    ChatPromptTemplate,\n",
    ")\n",
    "\n",
    "import openai\n",
    "from dotenv import load_dotenv"
   ]
  },
  {
   "cell_type": "code",
   "execution_count": 2,
   "metadata": {},
   "outputs": [
    {
     "data": {
      "text/plain": [
       "True"
      ]
     },
     "execution_count": 2,
     "metadata": {},
     "output_type": "execute_result"
    }
   ],
   "source": [
    "load_dotenv(\"../app/.env\")"
   ]
  },
  {
   "cell_type": "code",
   "execution_count": 3,
   "metadata": {},
   "outputs": [],
   "source": [
    "openai.api_key = os.environ[\"OPENAI_API_KEY\"]\n",
    "openai.organization = os.environ[\"OPENAI_ORG_ID\"]"
   ]
  },
  {
   "cell_type": "code",
   "execution_count": 4,
   "metadata": {},
   "outputs": [],
   "source": [
    "def convert_cml_to_langchain_format(message):\n",
    "    if message[\"role\"] == \"assistant\":\n",
    "        message_cls = AIMessage\n",
    "    elif message[\"role\"] == \"user\":\n",
    "        message_cls = HumanMessage\n",
    "    else:\n",
    "        message_cls = SystemMessage\n",
    "\n",
    "    return message_cls(content=message[\"content\"])"
   ]
  },
  {
   "cell_type": "code",
   "execution_count": 46,
   "metadata": {},
   "outputs": [],
   "source": [
    "def convert_cml_messages_to_langchain_format(messages):\n",
    "    return [convert_cml_to_langchain_format(message) for message in messages]"
   ]
  },
  {
   "cell_type": "code",
   "execution_count": 135,
   "metadata": {},
   "outputs": [],
   "source": [
    "router_messages = [\n",
    "    {\n",
    "        \"role\": \"assistant\",\n",
    "        \"content\": \"Please analyze the following JavaScript expression and break it down into simpler parts, explaining the order of operations and the intermediate results at each step: `3 + 5 * 2 - 4 / 2`. Write your answer in the format of step-by-step explanations.\",\n",
    "    },\n",
    "    {\n",
    "        \"role\": \"user\",\n",
    "        \"content\": \"\"\"- 3 + 5 = 8\n",
    "- 2 - 4 = -2\n",
    "- 8 * -2 / 2\n",
    "- 8 * -2 = -16\n",
    "- -16/2 = -8\"\"\",\n",
    "    },\n",
    "    {\n",
    "        \"role\": \"assistant\",\n",
    "        \"content\": \"\"\"Actual solution:\n",
    "```\n",
    "1. 5 * 2 = 10 (multiplication has higher precedence than addition and subtraction)\n",
    "2. 4 / 2 = 2 (division has higher precedence than addition and subtraction)\n",
    "3. 3 + 10 = 13 (addition)\n",
    "4. 13 - 2 = 11 (subtraction)\n",
    "```\n",
    "{\"Answer\": 0, \"feedback\": \"You didn't follow the correct order of operations. Remember that multiplication and division have higher precedence than addition and subtraction. Please try again, keeping the order of operations in mind.\"}\"\"\",\n",
    "    },\n",
    "]"
   ]
  },
  {
   "cell_type": "code",
   "execution_count": 136,
   "metadata": {},
   "outputs": [],
   "source": [
    "router_langchain_messages = [\n",
    "    convert_cml_to_langchain_format(message) for message in router_messages\n",
    "]"
   ]
  },
  {
   "cell_type": "code",
   "execution_count": 137,
   "metadata": {},
   "outputs": [],
   "source": [
    "chat_model = ChatOpenAI(temperature=0, model=\"gpt-4\")"
   ]
  },
  {
   "cell_type": "code",
   "execution_count": 138,
   "metadata": {},
   "outputs": [],
   "source": [
    "router_system_prompt_template = \"\"\"You will be provided with a series of interactions between a student and an interviewer along with a student query. The interviewer has asked the student a particular question. The student query will be delimited with #### characters.\n",
    " \n",
    "Classify each query into one of the categories below:\n",
    "- Answer to the question\n",
    "- Clarifying question\n",
    "- Irrelevant to the question\n",
    "\n",
    "{format_instructions}\n",
    "\"\"\""
   ]
  },
  {
   "cell_type": "code",
   "execution_count": 139,
   "metadata": {},
   "outputs": [],
   "source": [
    "router_output_schema = ResponseSchema(\n",
    "    name=\"type\",\n",
    "    description=\"either of 'answer', 'clarification', 'irrelevant'\",\n",
    "    type=\"answer | clarification | irrelevant\",\n",
    ")\n",
    "router_output_parser = StructuredOutputParser.from_response_schemas(\n",
    "    [router_output_schema]\n",
    ")\n",
    "router_format_instructions = router_output_parser.get_format_instructions()"
   ]
  },
  {
   "cell_type": "code",
   "execution_count": 140,
   "metadata": {},
   "outputs": [],
   "source": [
    "router_system_prompt = SystemMessage(\n",
    "    content=router_system_prompt_template.format(\n",
    "        format_instructions=router_format_instructions\n",
    "    )\n",
    ")"
   ]
  },
  {
   "cell_type": "code",
   "execution_count": 141,
   "metadata": {},
   "outputs": [],
   "source": [
    "router_langchain_messages = [router_system_prompt] + router_langchain_messages"
   ]
  },
  {
   "cell_type": "code",
   "execution_count": 142,
   "metadata": {},
   "outputs": [],
   "source": [
    "router_memory = ConversationBufferMemory()"
   ]
  },
  {
   "cell_type": "code",
   "execution_count": 143,
   "metadata": {},
   "outputs": [],
   "source": [
    "router_memory.chat_memory.messages = router_langchain_messages"
   ]
  },
  {
   "cell_type": "code",
   "execution_count": 144,
   "metadata": {},
   "outputs": [],
   "source": [
    "router_user_prompt_template_message = \"####{input}####\""
   ]
  },
  {
   "cell_type": "code",
   "execution_count": 145,
   "metadata": {},
   "outputs": [],
   "source": [
    "# router_system_prompt_template = SystemMessagePromptTemplate.from_template(\n",
    "#     template=router_system_prompt_template_message\n",
    "# )\n",
    "# router_user_prompt_template = HumanMessagePromptTemplate.from_template(\n",
    "#     template=router_user_prompt_template_message\n",
    "# )\n",
    "# router_chat_prompt_template = ChatPromptTemplate.from_messages([router_system_prompt])"
   ]
  },
  {
   "cell_type": "code",
   "execution_count": 146,
   "metadata": {},
   "outputs": [],
   "source": [
    "# router_chat_prompt_template.input_variables"
   ]
  },
  {
   "cell_type": "code",
   "execution_count": 147,
   "metadata": {},
   "outputs": [],
   "source": [
    "router_chain = ConversationChain(\n",
    "    llm=chat_model,\n",
    "    memory=router_memory,\n",
    "    verbose=True,\n",
    ")"
   ]
  },
  {
   "cell_type": "code",
   "execution_count": 148,
   "metadata": {},
   "outputs": [],
   "source": [
    "router_input = router_user_prompt_template_message.format(input=\"How can I improve?\")"
   ]
  },
  {
   "cell_type": "code",
   "execution_count": 149,
   "metadata": {},
   "outputs": [
    {
     "name": "stdout",
     "output_type": "stream",
     "text": [
      "\n",
      "\n",
      "\u001b[1m> Entering new  chain...\u001b[0m\n",
      "Prompt after formatting:\n",
      "\u001b[32;1m\u001b[1;3mThe following is a friendly conversation between a human and an AI. The AI is talkative and provides lots of specific details from its context. If the AI does not know the answer to a question, it truthfully says it does not know.\n",
      "\n",
      "Current conversation:\n",
      "System: You will be provided with a series of interactions between a student and an interviewer along with a student query. The interviewer has asked the student a particular question. The student query will be delimited with #### characters.\n",
      " \n",
      "Classify each query into one of the categories below:\n",
      "- Answer to the question\n",
      "- Clarifying question\n",
      "- Irrelevant to the question\n",
      "\n",
      "The output should be a markdown code snippet formatted in the following schema, including the leading and trailing \"```json\" and \"```\":\n",
      "\n",
      "```json\n",
      "{\n",
      "\t\"type\": answer | clarification | irrelevant  // either of 'answer', 'clarification', 'irrelevant'\n",
      "}\n",
      "```\n",
      "\n",
      "AI: Please analyze the following JavaScript expression and break it down into simpler parts, explaining the order of operations and the intermediate results at each step: `3 + 5 * 2 - 4 / 2`. Write your answer in the format of step-by-step explanations.\n",
      "Human: - 3 + 5 = 8\n",
      "- 2 - 4 = -2\n",
      "- 8 * -2 / 2\n",
      "- 8 * -2 = -16\n",
      "- -16/2 = -8\n",
      "AI: Actual solution:\n",
      "```\n",
      "1. 5 * 2 = 10 (multiplication has higher precedence than addition and subtraction)\n",
      "2. 4 / 2 = 2 (division has higher precedence than addition and subtraction)\n",
      "3. 3 + 10 = 13 (addition)\n",
      "4. 13 - 2 = 11 (subtraction)\n",
      "```\n",
      "{\"Answer\": 0, \"feedback\": \"You didn't follow the correct order of operations. Remember that multiplication and division have higher precedence than addition and subtraction. Please try again, keeping the order of operations in mind.\"}\n",
      "Human: ####How can I improve?####\n",
      "AI:\u001b[0m\n",
      "\n",
      "\u001b[1m> Finished chain.\u001b[0m\n"
     ]
    },
    {
     "data": {
      "text/plain": [
       "'```json\\n{\\n\\t\"type\": \"clarification\"\\n}\\n```'"
      ]
     },
     "execution_count": 149,
     "metadata": {},
     "output_type": "execute_result"
    }
   ],
   "source": [
    "router_chain.run(router_input)"
   ]
  },
  {
   "cell_type": "code",
   "execution_count": 151,
   "metadata": {},
   "outputs": [
    {
     "name": "stdout",
     "output_type": "stream",
     "text": [
      "\n",
      "\n",
      "\u001b[1m> Entering new  chain...\u001b[0m\n",
      "Prompt after formatting:\n",
      "\u001b[32;1m\u001b[1;3mThe following is a friendly conversation between a human and an AI. The AI is talkative and provides lots of specific details from its context. If the AI does not know the answer to a question, it truthfully says it does not know.\n",
      "\n",
      "Current conversation:\n",
      "System: You will be provided with a series of interactions between a student and an interviewer along with a student query. The interviewer has asked the student a particular question. The student query will be delimited with #### characters.\n",
      " \n",
      "Classify each query into one of the categories below:\n",
      "- Answer to the question\n",
      "- Clarifying question\n",
      "- Irrelevant to the question\n",
      "\n",
      "The output should be a markdown code snippet formatted in the following schema, including the leading and trailing \"```json\" and \"```\":\n",
      "\n",
      "```json\n",
      "{\n",
      "\t\"type\": answer | clarification | irrelevant  // either of 'answer', 'clarification', 'irrelevant'\n",
      "}\n",
      "```\n",
      "\n",
      "AI: Please analyze the following JavaScript expression and break it down into simpler parts, explaining the order of operations and the intermediate results at each step: `3 + 5 * 2 - 4 / 2`. Write your answer in the format of step-by-step explanations.\n",
      "Human: - 3 + 5 = 8\n",
      "- 2 - 4 = -2\n",
      "- 8 * -2 / 2\n",
      "- 8 * -2 = -16\n",
      "- -16/2 = -8\n",
      "AI: Actual solution:\n",
      "```\n",
      "1. 5 * 2 = 10 (multiplication has higher precedence than addition and subtraction)\n",
      "2. 4 / 2 = 2 (division has higher precedence than addition and subtraction)\n",
      "3. 3 + 10 = 13 (addition)\n",
      "4. 13 - 2 = 11 (subtraction)\n",
      "```\n",
      "{\"Answer\": 0, \"feedback\": \"You didn't follow the correct order of operations. Remember that multiplication and division have higher precedence than addition and subtraction. Please try again, keeping the order of operations in mind.\"}\n",
      "Human: ####How can I improve?####\n",
      "AI: ```json\n",
      "{\n",
      "\t\"type\": \"clarification\"\n",
      "}\n",
      "```\n",
      "Human: Give me more candies\n",
      "AI: ```json\n",
      "{\n",
      "\t\"type\": \"irrelevant\"\n",
      "}\n",
      "```\n",
      "Human: Give me more candies\n",
      "AI:\u001b[0m\n",
      "\n",
      "\u001b[1m> Finished chain.\u001b[0m\n"
     ]
    },
    {
     "data": {
      "text/plain": [
       "{'type': 'irrelevant'}"
      ]
     },
     "execution_count": 151,
     "metadata": {},
     "output_type": "execute_result"
    }
   ],
   "source": [
    "router_output_parser.parse(router_chain.run(\"Give me more candies\"))"
   ]
  },
  {
   "cell_type": "code",
   "execution_count": null,
   "metadata": {},
   "outputs": [],
   "source": []
  },
  {
   "cell_type": "code",
   "execution_count": null,
   "metadata": {},
   "outputs": [],
   "source": []
  },
  {
   "cell_type": "code",
   "execution_count": null,
   "metadata": {},
   "outputs": [],
   "source": []
  },
  {
   "cell_type": "code",
   "execution_count": null,
   "metadata": {},
   "outputs": [],
   "source": []
  },
  {
   "cell_type": "code",
   "execution_count": 169,
   "metadata": {},
   "outputs": [],
   "source": []
  },
  {
   "cell_type": "code",
   "execution_count": null,
   "metadata": {},
   "outputs": [],
   "source": []
  },
  {
   "cell_type": "code",
   "execution_count": 184,
   "metadata": {},
   "outputs": [],
   "source": [
    "# answer_evaluation_messages = [\n",
    "#     {\n",
    "#         \"role\": \"user\",\n",
    "#         \"content\": \"\"\",\n",
    "#     }\n",
    "# ]"
   ]
  },
  {
   "cell_type": "code",
   "execution_count": 185,
   "metadata": {},
   "outputs": [],
   "source": [
    "# answer_evaluation_langchain_messages = [\n",
    "#     convert_cml_to_langchain_format(message) for message in answer_evaluation_messages\n",
    "# ]"
   ]
  },
  {
   "cell_type": "code",
   "execution_count": 220,
   "metadata": {},
   "outputs": [],
   "source": [
    "answer_evaluation_system_prompt_template = \"\"\"You are a helpful and encouraging interviewer.\n",
    "You will be specified with a topic, a blooms level, and learning outcome along with a question that the student needs to be tested on as well as the student's response to the question. You need to provide an evaluation based on the student's response. The student's response will be delimited with #### characters.\n",
    "\n",
    "To solve the problem, do the following\n",
    "- First, work out your own solution to the problem\n",
    "- Then, compare your solution to the student's solution. Don’t give any answers or hints. Assess the student on the learning outcome provided using a rating of 0 (Unsatisfactory), 1 (Satisfactory) or 2 (Proficient).\n",
    "- At the end, give some actionable feedback too.\n",
    "\n",
    "Use the following format:\n",
    "Actual solution:\n",
    "{{ concise steps to work out the solution and your solution here }}\n",
    "\n",
    "{format_instructions}\"\"\""
   ]
  },
  {
   "cell_type": "code",
   "execution_count": 221,
   "metadata": {},
   "outputs": [],
   "source": [
    "answer_evaluation_answer_schema = ResponseSchema(\n",
    "    name=\"answer\",\n",
    "    description=\"the final evaluation\",\n",
    "    type=\"integer\",\n",
    ")\n",
    "answer_evaluation_feedback_schema = ResponseSchema(\n",
    "    name=\"feedback\",\n",
    "    description=\"the feedback for the student\",\n",
    "    type=\"string\",\n",
    ")\n",
    "answer_evaluation_output_parser = StructuredOutputParser.from_response_schemas(\n",
    "    [answer_evaluation_answer_schema, answer_evaluation_feedback_schema]\n",
    ")\n",
    "answer_evaluation_format_instructions = (\n",
    "    answer_evaluation_output_parser.get_format_instructions()\n",
    ")"
   ]
  },
  {
   "cell_type": "code",
   "execution_count": 222,
   "metadata": {},
   "outputs": [],
   "source": [
    "answer_evaluation_system_prompt = SystemMessage(\n",
    "    content=answer_evaluation_system_prompt_template.format(\n",
    "        format_instructions=answer_evaluation_format_instructions\n",
    "    )\n",
    ")"
   ]
  },
  {
   "cell_type": "code",
   "execution_count": 223,
   "metadata": {},
   "outputs": [],
   "source": [
    "answer_evaluation_langchain_messages = [answer_evaluation_system_prompt]"
   ]
  },
  {
   "cell_type": "code",
   "execution_count": 224,
   "metadata": {},
   "outputs": [
    {
     "data": {
      "text/plain": [
       "[SystemMessage(content='You are a helpful and encouraging interviewer.\\nYou will be specified with a topic, a blooms level, and learning outcome along with a question that the student needs to be tested on as well as the student\\'s response to the question. You need to provide an evaluation based on the student\\'s response. The student\\'s response will be delimited with #### characters.\\n\\nTo solve the problem, do the following\\n- First, work out your own solution to the problem\\n- Then, compare your solution to the student\\'s solution. Don’t give any answers or hints. Assess the student on the learning outcome provided using a rating of 0 (Unsatisfactory), 1 (Satisfactory) or 2 (Proficient).\\n- At the end, give some actionable feedback too.\\n\\nUse the following format:\\nActual solution:\\n{ concise steps to work out the solution and your solution here }\\n\\nThe output should be a markdown code snippet formatted in the following schema, including the leading and trailing \"```json\" and \"```\":\\n\\n```json\\n{\\n\\t\"answer\": integer  // the final evaluation\\n\\t\"feedback\": string  // the feedback for the student\\n}\\n```', additional_kwargs={})]"
      ]
     },
     "execution_count": 224,
     "metadata": {},
     "output_type": "execute_result"
    }
   ],
   "source": [
    "answer_evaluation_langchain_messages"
   ]
  },
  {
   "cell_type": "code",
   "execution_count": 226,
   "metadata": {},
   "outputs": [],
   "source": [
    "answer_evaluation_memory = ConversationBufferMemory()"
   ]
  },
  {
   "cell_type": "code",
   "execution_count": 227,
   "metadata": {},
   "outputs": [],
   "source": [
    "answer_evaluation_memory.chat_memory.messages = answer_evaluation_langchain_messages"
   ]
  },
  {
   "cell_type": "code",
   "execution_count": 228,
   "metadata": {},
   "outputs": [],
   "source": [
    "answer_evaluation_user_prompt_template_message = \"####{input}####\""
   ]
  },
  {
   "cell_type": "code",
   "execution_count": 229,
   "metadata": {},
   "outputs": [],
   "source": [
    "answer_evaluation_chain = ConversationChain(\n",
    "    llm=chat_model,\n",
    "    memory=answer_evaluation_memory,\n",
    "    verbose=True,\n",
    ")"
   ]
  },
  {
   "cell_type": "code",
   "execution_count": 230,
   "metadata": {},
   "outputs": [],
   "source": [
    "answer_evaluation_input = answer_evaluation_user_prompt_template_message.format(\n",
    "    input=\"\"\"Topic: “Javascript” -> “Basics” -> “Operators”\n",
    "Blooms level: “Analysing”\n",
    "Learning outcome: “Analyze complex expressions containing multiple operators, and break them down into simpler parts.”\n",
    "Question: Please analyze the following JavaScript expression and break it down into simpler parts, explaining the order of operations and the intermediate results at each step: `3 + 5 * 2 - 4 / 2`. Write your answer in the format of step-by-step explanations.\n",
    "Student's solution:\n",
    "####\n",
    "- 3 + 5 = 8\n",
    "- 2 - 4 = -2\n",
    "- 8 * -2 / 2\n",
    "- 8 * -2 = -16\n",
    "- -16/2 = -8\n",
    "####\"\"\"\n",
    ")"
   ]
  },
  {
   "cell_type": "code",
   "execution_count": 231,
   "metadata": {},
   "outputs": [
    {
     "name": "stdout",
     "output_type": "stream",
     "text": [
      "\n",
      "\n",
      "\u001b[1m> Entering new  chain...\u001b[0m\n",
      "Prompt after formatting:\n",
      "\u001b[32;1m\u001b[1;3mThe following is a friendly conversation between a human and an AI. The AI is talkative and provides lots of specific details from its context. If the AI does not know the answer to a question, it truthfully says it does not know.\n",
      "\n",
      "Current conversation:\n",
      "System: You are a helpful and encouraging interviewer.\n",
      "You will be specified with a topic, a blooms level, and learning outcome along with a question that the student needs to be tested on as well as the student's response to the question. You need to provide an evaluation based on the student's response. The student's response will be delimited with #### characters.\n",
      "\n",
      "To solve the problem, do the following\n",
      "- First, work out your own solution to the problem\n",
      "- Then, compare your solution to the student's solution. Don’t give any answers or hints. Assess the student on the learning outcome provided using a rating of 0 (Unsatisfactory), 1 (Satisfactory) or 2 (Proficient).\n",
      "- At the end, give some actionable feedback too.\n",
      "\n",
      "Use the following format:\n",
      "Actual solution:\n",
      "{ concise steps to work out the solution and your solution here }\n",
      "\n",
      "The output should be a markdown code snippet formatted in the following schema, including the leading and trailing \"```json\" and \"```\":\n",
      "\n",
      "```json\n",
      "{\n",
      "\t\"answer\": integer  // the final evaluation\n",
      "\t\"feedback\": string  // the feedback for the student\n",
      "}\n",
      "```\n",
      "Human: ####Topic: “Javascript” -> “Basics” -> “Operators”\n",
      "Blooms level: “Analysing”\n",
      "Learning outcome: “Analyze complex expressions containing multiple operators, and break them down into simpler parts.”\n",
      "Question: Please analyze the following JavaScript expression and break it down into simpler parts, explaining the order of operations and the intermediate results at each step: `3 + 5 * 2 - 4 / 2`. Write your answer in the format of step-by-step explanations.\n",
      "Student's solution:\n",
      "####\n",
      "- 3 + 5 = 8\n",
      "- 2 - 4 = -2\n",
      "- 8 * -2 / 2\n",
      "- 8 * -2 = -16\n",
      "- -16/2 = -8\n",
      "########\n",
      "AI:\u001b[0m\n",
      "\n",
      "\u001b[1m> Finished chain.\u001b[0m\n"
     ]
    },
    {
     "data": {
      "text/plain": [
       "'Actual solution:\\n1. 5 * 2 = 10 (multiplication)\\n2. 4 / 2 = 2 (division)\\n3. 3 + 10 = 13 (addition)\\n4. 13 - 2 = 11 (subtraction)\\n\\n```json\\n{\\n\\t\"answer\": 0,\\n\\t\"feedback\": \"Your solution does not follow the correct order of operations. Remember to follow the PEMDAS/BODMAS rule: Parentheses/Brackets, Exponents/Orders, Multiplication and Division (left-to-right), and Addition and Subtraction (left-to-right). Please try again, keeping this rule in mind.\"\\n}\\n```'"
      ]
     },
     "execution_count": 231,
     "metadata": {},
     "output_type": "execute_result"
    }
   ],
   "source": [
    "answer_evaluation_chain.run(answer_evaluation_input)"
   ]
  },
  {
   "cell_type": "code",
   "execution_count": 233,
   "metadata": {},
   "outputs": [
    {
     "data": {
      "text/plain": [
       "{'answer': 0,\n",
       " 'feedback': 'Your solution does not follow the correct order of operations. Remember to follow the PEMDAS/BODMAS rule: Parentheses/Brackets, Exponents/Orders, Multiplication and Division (left-to-right), and Addition and Subtraction (left-to-right). Please try again, keeping this rule in mind.'}"
      ]
     },
     "execution_count": 233,
     "metadata": {},
     "output_type": "execute_result"
    }
   ],
   "source": [
    "answer_evaluation_output_parser.parse(\n",
    "    'Actual solution:\\n1. 5 * 2 = 10 (multiplication)\\n2. 4 / 2 = 2 (division)\\n3. 3 + 10 = 13 (addition)\\n4. 13 - 2 = 11 (subtraction)\\n\\n```json\\n{\\n\\t\"answer\": 0,\\n\\t\"feedback\": \"Your solution does not follow the correct order of operations. Remember to follow the PEMDAS/BODMAS rule: Parentheses/Brackets, Exponents/Orders, Multiplication and Division (left-to-right), and Addition and Subtraction (left-to-right). Please try again, keeping this rule in mind.\"\\n}\\n```'\n",
    ")"
   ]
  },
  {
   "cell_type": "code",
   "execution_count": null,
   "metadata": {},
   "outputs": [],
   "source": []
  },
  {
   "cell_type": "code",
   "execution_count": 154,
   "metadata": {},
   "outputs": [],
   "source": [
    "clarify_question_messages = [\n",
    "    {\n",
    "        \"role\": \"user\",\n",
    "        \"content\": \"\"\"Topic: “Javascript” -> “Basics” -> “Operators”\n",
    "Blooms level: “Analysing”\n",
    "Learning outcome: “Analyze complex expressions containing multiple operators, and break them down into simpler parts.”\n",
    "Question: Please analyze the following JavaScript expression and break it down into simpler parts, explaining the order of operations and the intermediate results at each step: `3 + 5 * 2 - 4 / 2`. Write your answer in the format of step-by-step explanations.\n",
    "Student's solution:\n",
    "- 3 + 5 = 8\n",
    "- 2 - 4 = -2\n",
    "- 8 * -2 / 2\n",
    "- 8 * -2 = -16\n",
    "- -16/2 = -8\"\"\",\n",
    "    },\n",
    "    {\n",
    "        \"role\": \"assistant\",\n",
    "        \"content\": \"\"\"Actual solution:\n",
    "```\n",
    "1. 5 * 2 = 10 (multiplication)\n",
    "2. 4 / 2 = 2 (division)\n",
    "3. 3 + 10 = 13 (addition)\n",
    "4. 13 - 2 = 11 (subtraction)\n",
    "```\n",
    "{\"Answer\": 0, \"feedback\": \"You have not followed the order of operations correctly. Remember to follow the order: multiplication and division (from left to right), then addition and subtraction (from left to right). Reanalyze the given expression by following the correct order of operations, and try solving it again.\"}\"\"\",\n",
    "    },\n",
    "    {\"role\": \"user\", \"content\": \"Where did I go wrong?\"},\n",
    "    {\n",
    "        \"role\": \"assistant\",\n",
    "        \"content\": \"\"\"You went wrong by not following the correct order of operations. In JavaScript, as well as in most programming languages, the order of operations is:\n",
    "\n",
    "1. Parentheses\n",
    "2. Multiplication and division (from left to right)\n",
    "3. Addition and subtraction (from left to right)\n",
    "\n",
    "So, for the expression `3 + 5 * 2 - 4 / 2`, you should perform the multiplication and division first, then addition and subtraction. Make sure you follow the proper order and try to reanalyze the given expression step-by-step.\"\"\",\n",
    "    },\n",
    "]"
   ]
  },
  {
   "cell_type": "code",
   "execution_count": 155,
   "metadata": {},
   "outputs": [],
   "source": [
    "clarify_question_langchain_messages = convert_cml_messages_to_langchain_format(\n",
    "    clarify_question_messages\n",
    ")"
   ]
  },
  {
   "cell_type": "code",
   "execution_count": 156,
   "metadata": {},
   "outputs": [],
   "source": [
    "clarify_question_system_prompt_message = \"\"\"You are a helpful and encouraging interviewer.\n",
    "You will be specified with a topic, a blooms level, and learning outcome along with a question that the student needs to be tested on along with a series of interactions between a student and you.\n",
    "\n",
    "The student has asked a clarifying question that you need to answer. The student's response will be delimited with #### characters\n",
    "\n",
    "Important:\n",
    "- Make sure to not give hints or answer the question.\n",
    "- If the student asks for the answer, refrain from answering.\"\"\""
   ]
  },
  {
   "cell_type": "code",
   "execution_count": 157,
   "metadata": {},
   "outputs": [],
   "source": [
    "clarify_question_system_prompt = SystemMessage(\n",
    "    content=clarify_question_system_prompt_message\n",
    ")"
   ]
  },
  {
   "cell_type": "code",
   "execution_count": 158,
   "metadata": {},
   "outputs": [],
   "source": [
    "clarify_question_langchain_messages = [\n",
    "    clarify_question_system_prompt\n",
    "] + clarify_question_langchain_messages"
   ]
  },
  {
   "cell_type": "code",
   "execution_count": 160,
   "metadata": {},
   "outputs": [],
   "source": [
    "clarify_question_user_prompt_template_message = \"####{input}####\""
   ]
  },
  {
   "cell_type": "code",
   "execution_count": 161,
   "metadata": {},
   "outputs": [],
   "source": [
    "# router_system_prompt_template = SystemMessagePromptTemplate.from_template(\n",
    "#     template=router_system_prompt_template_message\n",
    "# )\n",
    "# clarify_question_user_prompt_template = HumanMessagePromptTemplate.from_template(\n",
    "#     template=clarify_question_user_prompt_template_message\n",
    "# )\n",
    "# clarify_question_chat_prompt_template = ChatPromptTemplate.from_messages(\n",
    "#     [clarify_question_system_prompt, clarify_question_user_prompt_template]\n",
    "# )"
   ]
  },
  {
   "cell_type": "code",
   "execution_count": 162,
   "metadata": {},
   "outputs": [],
   "source": [
    "clarify_question_memory = ConversationBufferMemory()"
   ]
  },
  {
   "cell_type": "code",
   "execution_count": 163,
   "metadata": {},
   "outputs": [],
   "source": [
    "clarify_question_memory.chat_memory.messages = clarify_question_langchain_messages"
   ]
  },
  {
   "cell_type": "code",
   "execution_count": 165,
   "metadata": {},
   "outputs": [],
   "source": [
    "clarify_question_chain = ConversationChain(\n",
    "    llm=chat_model,\n",
    "    memory=clarify_question_memory,\n",
    "    verbose=True,\n",
    ")"
   ]
  },
  {
   "cell_type": "code",
   "execution_count": 166,
   "metadata": {},
   "outputs": [],
   "source": [
    "clarify_question_input = clarify_question_user_prompt_template_message.format(\n",
    "    input=\"How can I learn about this? \"\n",
    ")"
   ]
  },
  {
   "cell_type": "code",
   "execution_count": 167,
   "metadata": {},
   "outputs": [
    {
     "name": "stdout",
     "output_type": "stream",
     "text": [
      "\n",
      "\n",
      "\u001b[1m> Entering new  chain...\u001b[0m\n",
      "Prompt after formatting:\n",
      "\u001b[32;1m\u001b[1;3mThe following is a friendly conversation between a human and an AI. The AI is talkative and provides lots of specific details from its context. If the AI does not know the answer to a question, it truthfully says it does not know.\n",
      "\n",
      "Current conversation:\n",
      "System: You are a helpful and encouraging interviewer.\n",
      "You will be specified with a topic, a blooms level, and learning outcome along with a question that the student needs to be tested on along with a series of interactions between a student and you.\n",
      "\n",
      "The student has asked a clarifying question that you need to answer. The student's response will be delimited with #### characters\n",
      "\n",
      "Important:\n",
      "- Make sure to not give hints or answer the question.\n",
      "- If the student asks for the answer, refrain from answering.\n",
      "Human: Topic: “Javascript” -> “Basics” -> “Operators”\n",
      "Blooms level: “Analysing”\n",
      "Learning outcome: “Analyze complex expressions containing multiple operators, and break them down into simpler parts.”\n",
      "Question: Please analyze the following JavaScript expression and break it down into simpler parts, explaining the order of operations and the intermediate results at each step: `3 + 5 * 2 - 4 / 2`. Write your answer in the format of step-by-step explanations.\n",
      "Student's solution:\n",
      "- 3 + 5 = 8\n",
      "- 2 - 4 = -2\n",
      "- 8 * -2 / 2\n",
      "- 8 * -2 = -16\n",
      "- -16/2 = -8\n",
      "AI: Actual solution:\n",
      "```\n",
      "1. 5 * 2 = 10 (multiplication)\n",
      "2. 4 / 2 = 2 (division)\n",
      "3. 3 + 10 = 13 (addition)\n",
      "4. 13 - 2 = 11 (subtraction)\n",
      "```\n",
      "{\"Answer\": 0, \"feedback\": \"You have not followed the order of operations correctly. Remember to follow the order: multiplication and division (from left to right), then addition and subtraction (from left to right). Reanalyze the given expression by following the correct order of operations, and try solving it again.\"}\n",
      "Human: Where did I go wrong?\n",
      "AI: You went wrong by not following the correct order of operations. In JavaScript, as well as in most programming languages, the order of operations is:\n",
      "\n",
      "1. Parentheses\n",
      "2. Multiplication and division (from left to right)\n",
      "3. Addition and subtraction (from left to right)\n",
      "\n",
      "So, for the expression `3 + 5 * 2 - 4 / 2`, you should perform the multiplication and division first, then addition and subtraction. Make sure you follow the proper order and try to reanalyze the given expression step-by-step.\n",
      "Human: ####How can I learn about this? ####\n",
      "AI:\u001b[0m\n",
      "\n",
      "\u001b[1m> Finished chain.\u001b[0m\n"
     ]
    },
    {
     "data": {
      "text/plain": [
       "\"To learn about the order of operations in JavaScript and programming in general, you can follow these steps:\\n\\n1. Read online tutorials and articles: There are many resources available online that explain the order of operations in programming languages, including JavaScript. Some popular websites include Mozilla Developer Network (MDN), W3Schools, and GeeksforGeeks.\\n\\n2. Watch video tutorials: YouTube and other video platforms have numerous tutorials on JavaScript and programming concepts, including the order of operations. Look for videos from reputable sources or instructors with good reviews.\\n\\n3. Practice with coding exercises: Websites like HackerRank, LeetCode, and Codewars offer coding challenges and exercises that can help you practice and reinforce your understanding of the order of operations.\\n\\n4. Join online forums and communities: Engage with other learners and experienced developers on forums like Stack Overflow, Reddit, or Discord channels dedicated to JavaScript and programming. You can ask questions, share your knowledge, and learn from others' experiences.\\n\\n5. Take a course or attend a workshop: Many online platforms like Coursera, Udemy, and edX offer courses on JavaScript and programming fundamentals. You can also attend workshops or meetups in your local area to learn from experienced instructors and network with other learners.\\n\\nRemember, practice is key to mastering any concept, so keep working on exercises and real-world projects to solidify your understanding of the order of operations in JavaScript.\""
      ]
     },
     "execution_count": 167,
     "metadata": {},
     "output_type": "execute_result"
    }
   ],
   "source": [
    "clarify_question_chain.run(clarify_question_input)"
   ]
  },
  {
   "cell_type": "code",
   "execution_count": 168,
   "metadata": {},
   "outputs": [
    {
     "name": "stdout",
     "output_type": "stream",
     "text": [
      "To learn about the order of operations in JavaScript and programming in general, you can follow these steps:\n",
      "\n",
      "1. Read online tutorials and articles: There are many resources available online that explain the order of operations in programming languages, including JavaScript. Some popular websites include Mozilla Developer Network (MDN), W3Schools, and GeeksforGeeks.\n",
      "\n",
      "2. Watch video tutorials: YouTube and other video platforms have numerous tutorials on JavaScript and programming concepts, including the order of operations. Look for videos from reputable sources or instructors with good reviews.\n",
      "\n",
      "3. Practice with coding exercises: Websites like HackerRank, LeetCode, and Codewars offer coding challenges and exercises that can help you practice and reinforce your understanding of the order of operations.\n",
      "\n",
      "4. Join online forums and communities: Engage with other learners and experienced developers on forums like Stack Overflow, Reddit, or Discord channels dedicated to JavaScript and programming. You can ask questions, share your knowledge, and learn from others' experiences.\n",
      "\n",
      "5. Take a course or attend a workshop: Many online platforms like Coursera, Udemy, and edX offer courses on JavaScript and programming fundamentals. You can also attend workshops or meetups in your local area to learn from experienced instructors and network with other learners.\n",
      "\n",
      "Remember, practice is key to mastering any concept, so keep working on exercises and real-world projects to solidify your understanding of the order of operations in JavaScript.\n"
     ]
    }
   ],
   "source": [
    "print(\n",
    "    \"To learn about the order of operations in JavaScript and programming in general, you can follow these steps:\\n\\n1. Read online tutorials and articles: There are many resources available online that explain the order of operations in programming languages, including JavaScript. Some popular websites include Mozilla Developer Network (MDN), W3Schools, and GeeksforGeeks.\\n\\n2. Watch video tutorials: YouTube and other video platforms have numerous tutorials on JavaScript and programming concepts, including the order of operations. Look for videos from reputable sources or instructors with good reviews.\\n\\n3. Practice with coding exercises: Websites like HackerRank, LeetCode, and Codewars offer coding challenges and exercises that can help you practice and reinforce your understanding of the order of operations.\\n\\n4. Join online forums and communities: Engage with other learners and experienced developers on forums like Stack Overflow, Reddit, or Discord channels dedicated to JavaScript and programming. You can ask questions, share your knowledge, and learn from others' experiences.\\n\\n5. Take a course or attend a workshop: Many online platforms like Coursera, Udemy, and edX offer courses on JavaScript and programming fundamentals. You can also attend workshops or meetups in your local area to learn from experienced instructors and network with other learners.\\n\\nRemember, practice is key to mastering any concept, so keep working on exercises and real-world projects to solidify your understanding of the order of operations in JavaScript.\"\n",
    ")"
   ]
  },
  {
   "cell_type": "code",
   "execution_count": null,
   "metadata": {},
   "outputs": [],
   "source": []
  }
 ],
 "metadata": {
  "kernelspec": {
   "display_name": "venv",
   "language": "python",
   "name": "python3"
  },
  "language_info": {
   "codemirror_mode": {
    "name": "ipython",
    "version": 3
   },
   "file_extension": ".py",
   "mimetype": "text/x-python",
   "name": "python",
   "nbconvert_exporter": "python",
   "pygments_lexer": "ipython3",
   "version": "3.8.16"
  },
  "orig_nbformat": 4
 },
 "nbformat": 4,
 "nbformat_minor": 2
}
