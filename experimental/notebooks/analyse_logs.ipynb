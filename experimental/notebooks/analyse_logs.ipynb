{
 "cells": [
  {
   "cell_type": "code",
   "execution_count": 17,
   "metadata": {},
   "outputs": [],
   "source": [
    "from datetime import datetime"
   ]
  },
  {
   "cell_type": "code",
   "execution_count": 1,
   "metadata": {},
   "outputs": [],
   "source": [
    "log_path = \"../src/db/app.log\""
   ]
  },
  {
   "cell_type": "code",
   "execution_count": 2,
   "metadata": {},
   "outputs": [],
   "source": [
    "logs = open(log_path, \"r\").read()"
   ]
  },
  {
   "cell_type": "code",
   "execution_count": 11,
   "metadata": {},
   "outputs": [],
   "source": [
    "log_lines = logs.split(\"\\n2025\")"
   ]
  },
  {
   "cell_type": "code",
   "execution_count": 12,
   "metadata": {},
   "outputs": [],
   "source": [
    "for index in range(1, len(log_lines)):\n",
    "    log_lines[index] = {\"log\": \"2025\" + log_lines[index]}"
   ]
  },
  {
   "cell_type": "code",
   "execution_count": 15,
   "metadata": {},
   "outputs": [],
   "source": [
    "log_lines[0] = {\"log\": log_lines[0]}"
   ]
  },
  {
   "cell_type": "code",
   "execution_count": 26,
   "metadata": {},
   "outputs": [],
   "source": [
    "for line in log_lines:\n",
    "    line[\"datetime\"] = datetime.strptime(line[\"log\"].split(\",\")[0], \"%Y-%m-%d %H:%M:%S\")"
   ]
  },
  {
   "cell_type": "code",
   "execution_count": 28,
   "metadata": {},
   "outputs": [],
   "source": [
    "relevant_log_lines = [\n",
    "    line\n",
    "    for line in log_lines\n",
    "    if line[\"datetime\"] >= datetime(2025, 1, 28, 9, 30, 0)\n",
    "    and line[\"datetime\"] <= datetime(2025, 1, 28, 11, 0, 0)\n",
    "]"
   ]
  },
  {
   "cell_type": "code",
   "execution_count": 33,
   "metadata": {},
   "outputs": [],
   "source": [
    "read_queries = [line for line in relevant_log_lines if \"SELECT\" in line[\"log\"]]"
   ]
  },
  {
   "cell_type": "code",
   "execution_count": 34,
   "metadata": {},
   "outputs": [
    {
     "data": {
      "text/plain": [
       "10175"
      ]
     },
     "execution_count": 34,
     "metadata": {},
     "output_type": "execute_result"
    }
   ],
   "source": [
    "len(read_queries)"
   ]
  },
  {
   "cell_type": "code",
   "execution_count": 48,
   "metadata": {},
   "outputs": [],
   "source": [
    "write_queries = [line for line in relevant_log_lines if \"INSERT\" in line[\"log\"]]"
   ]
  },
  {
   "cell_type": "code",
   "execution_count": 50,
   "metadata": {},
   "outputs": [],
   "source": [
    "other_queries = [\n",
    "    line\n",
    "    for line in relevant_log_lines\n",
    "    if \"SELECT\" not in line[\"log\"] and \"INSERT\" not in line[\"log\"]\n",
    "    # and \"UPDATE\" not in line[\"log\"]\n",
    "    # and \"DELETE\" not in line[\"log\"]\n",
    "    and \"BEGIN\" not in line[\"log\"]\n",
    "    and \"COMMIT\" not in line[\"log\"]\n",
    "    and \"You are\" not in line[\"log\"]\n",
    "    and \"Task:\\n\" not in line[\"log\"]\n",
    "]"
   ]
  },
  {
   "cell_type": "code",
   "execution_count": 51,
   "metadata": {},
   "outputs": [
    {
     "data": {
      "text/plain": [
       "0"
      ]
     },
     "execution_count": 51,
     "metadata": {},
     "output_type": "execute_result"
    }
   ],
   "source": [
    "len(other_queries)"
   ]
  },
  {
   "cell_type": "code",
   "execution_count": 57,
   "metadata": {},
   "outputs": [],
   "source": [
    "time_diffs = [\n",
    "    relevant_log_lines[index][\"datetime\"] - relevant_log_lines[index - 1][\"datetime\"]\n",
    "    for index in range(1, len(relevant_log_lines))\n",
    "]"
   ]
  },
  {
   "cell_type": "code",
   "execution_count": 59,
   "metadata": {},
   "outputs": [],
   "source": [
    "import sqlite3"
   ]
  },
  {
   "cell_type": "code",
   "execution_count": 68,
   "metadata": {},
   "outputs": [
    {
     "name": "stdout",
     "output_type": "stream",
     "text": [
      "SELECT MAX(datetime(timestamp, '+5 hours', '+30 minutes')) as timestamp\n",
      "    FROM chat_history\n",
      "    WHERE user_id = 3 AND task_id IN (SELECT task_id FROM course_tasks WHERE course_id IN (SELECT course_id FROM course_cohorts WHERE cohort_id = 1))\n",
      "    GROUP BY DATE(datetime(timestamp, '+5 hours', '+30 minutes'))\n",
      "    ORDER BY timestamp DESC\n"
     ]
    }
   ],
   "source": [
    "print(read_queries[0][\"log\"].split(\"Executing operation:\")[-1].strip())"
   ]
  },
  {
   "cell_type": "code",
   "execution_count": 69,
   "metadata": {},
   "outputs": [],
   "source": [
    "def extract_query(log_line):\n",
    "    \"\"\"Extract the SQL query from a log line\"\"\"\n",
    "    # Assuming the query is after a comma in the log\n",
    "    return log_line[\"log\"].split(\"Executing operation:\")[-1].strip()"
   ]
  },
  {
   "cell_type": "code",
   "execution_count": 73,
   "metadata": {},
   "outputs": [],
   "source": [
    "def measure_query_times(queries, db_path=\"../src/db/db.sqlite.prod\"):\n",
    "    \"\"\"Run queries and measure their execution times\"\"\"\n",
    "    conn = sqlite3.connect(db_path)\n",
    "    cursor = conn.cursor()\n",
    "\n",
    "    results = []\n",
    "    for query_line in queries:\n",
    "        query = extract_query(query_line)\n",
    "\n",
    "        # Start timing\n",
    "        cursor.execute(\"SELECT sqlite_version()\")  # Warm up connection\n",
    "        start_time = datetime.now()\n",
    "\n",
    "        # Execute query\n",
    "        cursor.execute(query)\n",
    "\n",
    "        # End timing\n",
    "        end_time = datetime.now()\n",
    "        execution_time = (end_time - start_time).total_seconds()\n",
    "\n",
    "        results.append(\n",
    "            {\n",
    "                \"query\": query,\n",
    "                \"execution_time\": execution_time,\n",
    "                \"timestamp\": query_line[\"datetime\"],\n",
    "            }\n",
    "        )\n",
    "\n",
    "    conn.close()\n",
    "    return results"
   ]
  },
  {
   "cell_type": "code",
   "execution_count": 76,
   "metadata": {},
   "outputs": [],
   "source": [
    "read_query_times = measure_query_times(read_queries)"
   ]
  },
  {
   "cell_type": "code",
   "execution_count": 78,
   "metadata": {},
   "outputs": [],
   "source": [
    "times = [time[\"execution_time\"] for time in read_query_times]"
   ]
  },
  {
   "cell_type": "code",
   "execution_count": 79,
   "metadata": {},
   "outputs": [
    {
     "name": "stdout",
     "output_type": "stream",
     "text": [
      "P90: 0.001s\n",
      "P95: 0.001s\n",
      "P99: 0.015s\n"
     ]
    }
   ],
   "source": [
    "import numpy as np\n",
    "\n",
    "# Calculate percentiles\n",
    "p90 = np.percentile(times, 90)\n",
    "p95 = np.percentile(times, 95)\n",
    "p99 = np.percentile(times, 99)\n",
    "\n",
    "print(f\"P90: {p90:.3f}s\")\n",
    "print(f\"P95: {p95:.3f}s\")\n",
    "print(f\"P99: {p99:.3f}s\")"
   ]
  },
  {
   "cell_type": "code",
   "execution_count": null,
   "metadata": {},
   "outputs": [],
   "source": []
  },
  {
   "cell_type": "code",
   "execution_count": 80,
   "metadata": {},
   "outputs": [],
   "source": [
    "write_query_times = measure_query_times(write_queries)"
   ]
  },
  {
   "cell_type": "code",
   "execution_count": 82,
   "metadata": {},
   "outputs": [],
   "source": [
    "times = [time[\"execution_time\"] for time in write_query_times]"
   ]
  },
  {
   "cell_type": "code",
   "execution_count": 83,
   "metadata": {},
   "outputs": [
    {
     "name": "stdout",
     "output_type": "stream",
     "text": [
      "P90: 0.000s\n",
      "P95: 0.000s\n",
      "P99: 0.000s\n"
     ]
    }
   ],
   "source": [
    "import numpy as np\n",
    "\n",
    "# Calculate percentiles\n",
    "p90 = np.percentile(times, 90)\n",
    "p95 = np.percentile(times, 95)\n",
    "p99 = np.percentile(times, 99)\n",
    "\n",
    "print(f\"P90: {p90:.3f}s\")\n",
    "print(f\"P95: {p95:.3f}s\")\n",
    "print(f\"P99: {p99:.3f}s\")"
   ]
  },
  {
   "cell_type": "code",
   "execution_count": null,
   "metadata": {},
   "outputs": [],
   "source": []
  },
  {
   "cell_type": "code",
   "execution_count": null,
   "metadata": {},
   "outputs": [],
   "source": []
  },
  {
   "cell_type": "code",
   "execution_count": null,
   "metadata": {},
   "outputs": [],
   "source": []
  },
  {
   "cell_type": "code",
   "execution_count": null,
   "metadata": {},
   "outputs": [],
   "source": []
  },
  {
   "cell_type": "code",
   "execution_count": null,
   "metadata": {},
   "outputs": [],
   "source": []
  },
  {
   "cell_type": "code",
   "execution_count": null,
   "metadata": {},
   "outputs": [],
   "source": []
  },
  {
   "cell_type": "code",
   "execution_count": null,
   "metadata": {},
   "outputs": [],
   "source": []
  }
 ],
 "metadata": {
  "kernelspec": {
   "display_name": "sensai (venv)",
   "language": "python",
   "name": "venv"
  },
  "language_info": {
   "codemirror_mode": {
    "name": "ipython",
    "version": 3
   },
   "file_extension": ".py",
   "mimetype": "text/x-python",
   "name": "python",
   "nbconvert_exporter": "python",
   "pygments_lexer": "ipython3",
   "version": "3.13.0"
  }
 },
 "nbformat": 4,
 "nbformat_minor": 2
}
