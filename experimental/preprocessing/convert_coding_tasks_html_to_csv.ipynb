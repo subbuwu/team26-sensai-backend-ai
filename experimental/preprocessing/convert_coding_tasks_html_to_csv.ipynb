{
 "cells": [
  {
   "cell_type": "code",
   "execution_count": 2,
   "metadata": {},
   "outputs": [],
   "source": [
    "from bs4 import BeautifulSoup\n",
    "import csv"
   ]
  },
  {
   "cell_type": "code",
   "execution_count": 3,
   "metadata": {},
   "outputs": [],
   "source": [
    "html_path = './CodingTasks.html'"
   ]
  },
  {
   "cell_type": "code",
   "execution_count": 5,
   "metadata": {},
   "outputs": [],
   "source": [
    "with open(html_path, 'r', encoding='utf-8') as file:\n",
    "    soup = BeautifulSoup(file, 'html.parser')"
   ]
  },
  {
   "cell_type": "code",
   "execution_count": 8,
   "metadata": {},
   "outputs": [],
   "source": [
    "content = []\n",
    "\n",
    "# Assuming headers (like \"Basic Structure of an HTML Document\") are in <h2>, objectives in <p>, and steps in <ul>/<li>\n",
    "sections = soup.find_all('h1')  # Change the tag based on your HTML structure\n",
    "subsections = soup.find_all('h2')  # Change the tag based on your HTML structure"
   ]
  },
  {
   "cell_type": "code",
   "execution_count": 10,
   "metadata": {},
   "outputs": [
    {
     "data": {
      "text/plain": [
       "[<h2 class=\"c15\" id=\"h.rnavd0qbetne\"><span class=\"c7 c13\">Conditions</span></h2>,\n",
       " <h2 class=\"c15\" id=\"h.5b0kobgtvde\"><span class=\"c7 c13\">Loops</span></h2>,\n",
       " <h2 class=\"c18\" id=\"h.hboq2lc3iobg\"><span class=\"c7 c13\">Advanced Loops</span></h2>,\n",
       " <h2 class=\"c18\" id=\"h.g27e3xxvxbdp\"><span class=\"c7 c13\">Advanced Array</span></h2>,\n",
       " <h2 class=\"c15\" id=\"h.fw3txzne0o8g\"><span class=\"c7 c13\">Strings</span></h2>,\n",
       " <h2 class=\"c10\" id=\"h.qziy6b6v1j3t\"><span class=\"c7 c13\"></span></h2>]"
      ]
     },
     "execution_count": 10,
     "metadata": {},
     "output_type": "execute_result"
    }
   ],
   "source": [
    "subsections"
   ]
  },
  {
   "cell_type": "code",
   "execution_count": null,
   "metadata": {},
   "outputs": [],
   "source": []
  },
  {
   "cell_type": "code",
   "execution_count": 7,
   "metadata": {},
   "outputs": [
    {
     "data": {
      "text/plain": [
       "'HTML'"
      ]
     },
     "execution_count": 7,
     "metadata": {},
     "output_type": "execute_result"
    }
   ],
   "source": [
    "sections[0].get_text()"
   ]
  },
  {
   "cell_type": "code",
   "execution_count": 9,
   "metadata": {},
   "outputs": [
    {
     "data": {
      "text/plain": [
       "<h2 class=\"c14\" id=\"h.l93c8n62hx2m\"><span class=\"c16 c7\">HTML\n",
       "            Introduction</span></h2>"
      ]
     },
     "execution_count": 9,
     "metadata": {},
     "output_type": "execute_result"
    }
   ],
   "source": [
    "section = sections[0]\n",
    "section.find_next('h2')"
   ]
  },
  {
   "cell_type": "code",
   "execution_count": 10,
   "metadata": {},
   "outputs": [],
   "source": [
    "subsection = section.find_next('h2')\n"
   ]
  },
  {
   "cell_type": "code",
   "execution_count": 13,
   "metadata": {},
   "outputs": [],
   "source": [
    "task = subsection.find_next('h3')"
   ]
  },
  {
   "cell_type": "code",
   "execution_count": 14,
   "metadata": {},
   "outputs": [
    {
     "data": {
      "text/plain": [
       "<h3 id=\"h.mda3aq7rj990\" style=\"display:inline\"><span class=\"c5\">Basic Structure of an HTML Document</span></h3>"
      ]
     },
     "execution_count": 14,
     "metadata": {},
     "output_type": "execute_result"
    }
   ],
   "source": [
    "task"
   ]
  },
  {
   "cell_type": "code",
   "execution_count": 20,
   "metadata": {},
   "outputs": [],
   "source": [
    "p = task.find_next('p')"
   ]
  },
  {
   "cell_type": "code",
   "execution_count": 37,
   "metadata": {},
   "outputs": [
    {
     "data": {
      "text/plain": [
       "'Objective: Understand the basic structure of an HTML document.'"
      ]
     },
     "execution_count": 37,
     "metadata": {},
     "output_type": "execute_result"
    }
   ],
   "source": [
    "' '.join(p.get_text().split())"
   ]
  },
  {
   "cell_type": "code",
   "execution_count": 31,
   "metadata": {},
   "outputs": [
    {
     "data": {
      "text/plain": [
       "<span class=\"c0\"> Understand the basic structure of an HTML\n",
       "            document.</span>"
      ]
     },
     "execution_count": 31,
     "metadata": {},
     "output_type": "execute_result"
    }
   ],
   "source": [
    "p.find_next().find_next()"
   ]
  },
  {
   "cell_type": "code",
   "execution_count": 53,
   "metadata": {},
   "outputs": [],
   "source": [
    "def norm(name):\n",
    "    return ' '.join(name.split(\" \"))"
   ]
  },
  {
   "cell_type": "code",
   "execution_count": 56,
   "metadata": {},
   "outputs": [
    {
     "name": "stdout",
     "output_type": "stream",
     "text": [
      "      Paragraph: Print the following pattern based on the given input.\n",
      "      Paragraph: Sample Input: \n",
      "      Paragraph: 6\n",
      "      Paragraph: Sample Output: \n",
      "      Paragraph: *********************\n",
      "      Paragraph: Explanation: Since the input is 6, it prints a total of 6 lines. In each line, the star count increases.\n",
      "      Paragraph: Print the following pattern based on the given input.\n",
      "      Paragraph: Sample Input: \n",
      "      Paragraph: 6\n",
      "      Paragraph: Sample Output: \n",
      "      Paragraph:      *    **   ***  **** ***********\n",
      "      Paragraph: Explanation: Since the input is 6, it prints a total of 6 lines. In each line, the star count increases and the leading space decreases.\n",
      "      Paragraph: Print the following pattern based on the given input.\n",
      "      Paragraph: Sample Input: \n",
      "      Paragraph: 6\n",
      "      Paragraph: Sample Output: \n",
      "      Paragraph: * *  *   *    *     *\n",
      "      Paragraph: Explanation: Since the input is 6, it prints a total of 6 lines. In each line, it prints only one star, but the leading space increases.\n",
      "      Paragraph: Print the following pattern based on the given input.\n",
      "      Paragraph: Sample Input: \n",
      "      Paragraph: 5\n",
      "      Paragraph: Sample Output: \n",
      "      Paragraph:     *   ***  ***** ****************\n",
      "      Paragraph: Explanation: Since the input is 5, it prints a total of 5 lines of stars. Each line has stars as well as leading spaces. In each line, the star count increases by 2, but the leading space decreases by 1. \n"
     ]
    }
   ],
   "source": [
    "import re\n",
    "\n",
    "tasks = []\n",
    "    \n",
    "for subsection in subsections:\n",
    "    # Break the loop if we've reached the next main section\n",
    "    # if next_section and subsection.find_previous('h1') != section:\n",
    "    #     break\n",
    "\n",
    "    subsection_name = norm(subsection.get_text())\n",
    "    \n",
    "    if not subsection_name:\n",
    "        continue\n",
    "\n",
    "    # print(f\"  Subsection: {subsection_name}\")\n",
    "\n",
    "    # continue\n",
    "\n",
    "    # Find all h3 tags within this subsection\n",
    "    h3_tags = []\n",
    "    next_element = subsection.find_next()\n",
    "\n",
    "    while next_element and next_element.name != 'h2' and next_element.name != 'h1':\n",
    "        if next_element.name == 'h3':\n",
    "            h3_tags.append(next_element)\n",
    "\n",
    "        next_element = next_element.find_next()\n",
    "    \n",
    "    # Iterate through all p tags\n",
    "    for h3 in h3_tags:\n",
    "        task_name = norm(h3.get_text())\n",
    "        # print(f\"    Name: {task_name}\")\n",
    "\n",
    "        task = {\n",
    "            'Name': task_name,\n",
    "            'Description': [],\n",
    "            'Tags': [subsection_name],\n",
    "        }\n",
    "\n",
    "        # if task_name != 'Book Review Display':\n",
    "        #     continue\n",
    "\n",
    "        # Find all p tags, ul tags, and ol tags within this h3 tag\n",
    "        content_tags = []\n",
    "        next_element = h3.find_next()\n",
    "        while next_element and next_element.name not in ['h3', 'h2', 'h1']:\n",
    "            if next_element.name in ['p', 'ul']:\n",
    "                content_tags.append(next_element)\n",
    "            next_element = next_element.find_next()\n",
    "\n",
    "        \n",
    "        if 'Star Pattern' not in task['Name']:\n",
    "            continue\n",
    "\n",
    "        # Iterate through all p tags\n",
    "        # has_text = False\n",
    "        for tag in content_tags:\n",
    "\n",
    "            # print(tag.prettify())\n",
    "            # tag_text = tag.prettify()\n",
    "            # tag_text = re.sub(r'<br\\s*/?>', '\\n', tag_text, flags=re.IGNORECASE)\n",
    "            # tag_text = re.sub(r'<[^>]+>', '', tag_text).strip()\n",
    "            # # print(tag_text)\n",
    "            # # Replace multiple newlines with a single newline\n",
    "            # tag_text = re.sub(r'\\n+', '\\n', tag_text)\n",
    "            # # print(tag_text)\n",
    "    \n",
    "            tag_text = norm(tag.get_text())\n",
    "            if not tag_text:\n",
    "                continue\n",
    "\n",
    "            # has_text = True\n",
    "\n",
    "            if tag.find('h3'):\n",
    "                # If h3 is found, not a part of this list\n",
    "                continue\n",
    "\n",
    "            if tag.name == 'p':\n",
    "                task['Description'].append(tag_text)\n",
    "                print(f\"      Paragraph: {tag_text}\")\n",
    "            elif tag.name == 'ul':\n",
    "                print(f\"      Unordered List1) :\")\n",
    "                for li in tag.find_all('li'):\n",
    "                    li_text = norm(li.get_text())\n",
    "                    # li_text = li_text.replace('<br>', '\\n')\n",
    "\n",
    "                    # norm(li_text) \n",
    "\n",
    "                    task['Description'].append(f\"\\t- {li_text}\")\n",
    "                    print(f\"        - {li_text}\")\n",
    "            # elif tag.name == 'ol':\n",
    "            #     print(f\"      Ordered List:\")\n",
    "            #     for li in tag.find_all('li'):\n",
    "            #         li_text = norm(li.get_text())\n",
    "            #         task['Description'].append(f\"\\n\\t- {li_text}\")\n",
    "            #         print(f\"        - {li_text}\")\n",
    "        \n",
    "        task['Description'] = '\\n'.join(task['Description'])\n",
    "\n",
    "        # print(task['Description'])\n",
    "\n",
    "        tasks.append(task)\n",
    "\n",
    "        continue"
   ]
  },
  {
   "cell_type": "code",
   "execution_count": null,
   "metadata": {},
   "outputs": [],
   "source": []
  },
  {
   "cell_type": "code",
   "execution_count": null,
   "metadata": {},
   "outputs": [],
   "source": []
  },
  {
   "cell_type": "code",
   "execution_count": 32,
   "metadata": {},
   "outputs": [],
   "source": [
    "import pandas as pd"
   ]
  },
  {
   "cell_type": "code",
   "execution_count": 33,
   "metadata": {},
   "outputs": [],
   "source": [
    "df = pd.DataFrame(tasks)"
   ]
  },
  {
   "cell_type": "code",
   "execution_count": 34,
   "metadata": {},
   "outputs": [],
   "source": [
    "df.to_csv('CodingTasks.csv')"
   ]
  },
  {
   "cell_type": "code",
   "execution_count": null,
   "metadata": {},
   "outputs": [],
   "source": []
  },
  {
   "cell_type": "code",
   "execution_count": null,
   "metadata": {},
   "outputs": [],
   "source": []
  },
  {
   "cell_type": "code",
   "execution_count": null,
   "metadata": {},
   "outputs": [],
   "source": []
  },
  {
   "cell_type": "code",
   "execution_count": null,
   "metadata": {},
   "outputs": [],
   "source": []
  },
  {
   "cell_type": "code",
   "execution_count": null,
   "metadata": {},
   "outputs": [],
   "source": []
  },
  {
   "cell_type": "code",
   "execution_count": 29,
   "metadata": {},
   "outputs": [
    {
     "data": {
      "text/plain": [
       "<ol class=\"c6 lst-kix_cy7qa9umb8yt-1\" start=\"2\">\n",
       "<li class=\"c4 li-bullet-0\"><span class=\"c0\">Adding Metadata</span></li>\n",
       "</ol>"
      ]
     },
     "execution_count": 29,
     "metadata": {},
     "output_type": "execute_result"
    }
   ],
   "source": [
    "next_element = p.find_next('ol')\n",
    "ol_elements = []\n",
    "\n",
    "while next_element and next_element.name != 'h2':\n",
    "    if next_element.name == 'ol':\n",
    "        ol_elements.append(next_element)\n",
    "    next_element = next_element.find_next()\n",
    "\n",
    "ol_elements"
   ]
  },
  {
   "cell_type": "code",
   "execution_count": null,
   "metadata": {},
   "outputs": [],
   "source": []
  },
  {
   "cell_type": "code",
   "execution_count": 1,
   "metadata": {},
   "outputs": [
    {
     "ename": "NameError",
     "evalue": "name 'sections' is not defined",
     "output_type": "error",
     "traceback": [
      "\u001b[0;31m---------------------------------------------------------------------------\u001b[0m",
      "\u001b[0;31mNameError\u001b[0m                                 Traceback (most recent call last)",
      "Cell \u001b[0;32mIn[1], line 1\u001b[0m\n\u001b[0;32m----> 1\u001b[0m \u001b[38;5;28;01mfor\u001b[39;00m section \u001b[38;5;129;01min\u001b[39;00m \u001b[43msections\u001b[49m:\n\u001b[1;32m      2\u001b[0m    name \u001b[38;5;241m=\u001b[39m section\u001b[38;5;241m.\u001b[39mget_text()\n\u001b[1;32m      3\u001b[0m    description_tag \u001b[38;5;241m=\u001b[39m section\u001b[38;5;241m.\u001b[39mfind_next(\u001b[38;5;124m'\u001b[39m\u001b[38;5;124mp\u001b[39m\u001b[38;5;124m'\u001b[39m)\n",
      "\u001b[0;31mNameError\u001b[0m: name 'sections' is not defined"
     ]
    }
   ],
   "source": [
    "for section in sections:\n",
    "   name = section.get_text()\n",
    "   description_tag = section.find_next('p')\n",
    "   description = description_tag.get_text() if description_tag else \"\"\n",
    "   \n",
    "   # Find all the list items (assuming they contain the details)\n",
    "   list_items = section.find_next('ul').find_all('li')\n",
    "   details = \" \".join([item.get_text() for item in list_items])"
   ]
  },
  {
   "cell_type": "code",
   "execution_count": null,
   "metadata": {},
   "outputs": [],
   "source": []
  }
 ],
 "metadata": {
  "kernelspec": {
   "display_name": "Python 3",
   "language": "python",
   "name": "python3"
  },
  "language_info": {
   "codemirror_mode": {
    "name": "ipython",
    "version": 3
   },
   "file_extension": ".py",
   "mimetype": "text/x-python",
   "name": "python",
   "nbconvert_exporter": "python",
   "pygments_lexer": "ipython3",
   "version": "3.9.6"
  }
 },
 "nbformat": 4,
 "nbformat_minor": 2
}
