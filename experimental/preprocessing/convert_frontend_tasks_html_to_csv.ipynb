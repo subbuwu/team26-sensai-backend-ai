{
 "cells": [
  {
   "cell_type": "code",
   "execution_count": 2,
   "metadata": {},
   "outputs": [],
   "source": [
    "from bs4 import BeautifulSoup\n",
    "import csv"
   ]
  },
  {
   "cell_type": "code",
   "execution_count": 3,
   "metadata": {},
   "outputs": [],
   "source": [
    "html_path = './FrontendSensai.html'"
   ]
  },
  {
   "cell_type": "code",
   "execution_count": 4,
   "metadata": {},
   "outputs": [],
   "source": [
    "with open(html_path, 'r', encoding='utf-8') as file:\n",
    "        soup = BeautifulSoup(file, 'html.parser')\n",
    "        "
   ]
  },
  {
   "cell_type": "code",
   "execution_count": 5,
   "metadata": {},
   "outputs": [],
   "source": [
    "content = []\n",
    "    \n",
    "# Assuming headers (like \"Basic Structure of an HTML Document\") are in <h2>, objectives in <p>, and steps in <ul>/<li>\n",
    "sections = soup.find_all('h1')  # Change the tag based on your HTML structure\n",
    "subsections = soup.find_all('h2')  # Change the tag based on your HTML structure"
   ]
  },
  {
   "cell_type": "code",
   "execution_count": 9,
   "metadata": {},
   "outputs": [
    {
     "data": {
      "text/plain": [
       "[<h1 class=\"c12\" id=\"h.prhdjdxy2tsw\"><span class=\"c17\">HTML</span></h1>,\n",
       " <h1 class=\"c12\" id=\"h.122bvaevtc6v\"><span class=\"c17\">CSS</span></h1>,\n",
       " <h1 class=\"c12\" id=\"h.wshwtvdoubxw\"><span class=\"c17\">JavaScript</span></h1>,\n",
       " <h1 class=\"c12\" id=\"h.32ix1422dybs\"><span class=\"c17\">React</span></h1>]"
      ]
     },
     "execution_count": 9,
     "metadata": {},
     "output_type": "execute_result"
    }
   ],
   "source": [
    "sections"
   ]
  },
  {
   "cell_type": "code",
   "execution_count": 7,
   "metadata": {},
   "outputs": [
    {
     "data": {
      "text/plain": [
       "'HTML'"
      ]
     },
     "execution_count": 7,
     "metadata": {},
     "output_type": "execute_result"
    }
   ],
   "source": [
    "sections[0].get_text()"
   ]
  },
  {
   "cell_type": "code",
   "execution_count": 9,
   "metadata": {},
   "outputs": [
    {
     "data": {
      "text/plain": [
       "<h2 class=\"c14\" id=\"h.l93c8n62hx2m\"><span class=\"c16 c7\">HTML\n",
       "            Introduction</span></h2>"
      ]
     },
     "execution_count": 9,
     "metadata": {},
     "output_type": "execute_result"
    }
   ],
   "source": [
    "section = sections[0]\n",
    "section.find_next('h2')"
   ]
  },
  {
   "cell_type": "code",
   "execution_count": 10,
   "metadata": {},
   "outputs": [],
   "source": [
    "subsection = section.find_next('h2')\n"
   ]
  },
  {
   "cell_type": "code",
   "execution_count": 13,
   "metadata": {},
   "outputs": [],
   "source": [
    "task = subsection.find_next('h3')"
   ]
  },
  {
   "cell_type": "code",
   "execution_count": 14,
   "metadata": {},
   "outputs": [
    {
     "data": {
      "text/plain": [
       "<h3 id=\"h.mda3aq7rj990\" style=\"display:inline\"><span class=\"c5\">Basic Structure of an HTML Document</span></h3>"
      ]
     },
     "execution_count": 14,
     "metadata": {},
     "output_type": "execute_result"
    }
   ],
   "source": [
    "task"
   ]
  },
  {
   "cell_type": "code",
   "execution_count": 20,
   "metadata": {},
   "outputs": [],
   "source": [
    "p = task.find_next('p')"
   ]
  },
  {
   "cell_type": "code",
   "execution_count": 37,
   "metadata": {},
   "outputs": [
    {
     "data": {
      "text/plain": [
       "'Objective: Understand the basic structure of an HTML document.'"
      ]
     },
     "execution_count": 37,
     "metadata": {},
     "output_type": "execute_result"
    }
   ],
   "source": [
    "' '.join(p.get_text().split())"
   ]
  },
  {
   "cell_type": "code",
   "execution_count": 31,
   "metadata": {},
   "outputs": [
    {
     "data": {
      "text/plain": [
       "<span class=\"c0\"> Understand the basic structure of an HTML\n",
       "            document.</span>"
      ]
     },
     "execution_count": 31,
     "metadata": {},
     "output_type": "execute_result"
    }
   ],
   "source": [
    "p.find_next().find_next()"
   ]
  },
  {
   "cell_type": "code",
   "execution_count": 40,
   "metadata": {},
   "outputs": [],
   "source": [
    "def norm(name):\n",
    "    return ' '.join(name.split())"
   ]
  },
  {
   "cell_type": "code",
   "execution_count": 91,
   "metadata": {},
   "outputs": [],
   "source": [
    "tasks = []\n",
    "\n",
    "\n",
    "for section in sections:\n",
    "\n",
    "    section_name = norm(section.get_text().strip())\n",
    "    # print(f\"Section: {section_name}\")\n",
    "    \n",
    "    # Find all subsections (h2 tags) within this section\n",
    "    subsections = section.find_all_next('h2')\n",
    "    \n",
    "    # We need to stop when we reach the next main section (h1 tag)\n",
    "    next_section = section.find_next('h1')\n",
    "\n",
    "    # if section.get_text() != 'React':\n",
    "    #     continue\n",
    "\n",
    "    if not subsections:\n",
    "        subsections = [section]\n",
    "    \n",
    "    for subsection in subsections:\n",
    "        # Break the loop if we've reached the next main section\n",
    "        if next_section and subsection.find_previous('h1') != section:\n",
    "            break\n",
    "\n",
    "        subsection_name = norm(subsection.get_text())\n",
    "        # print(f\"  Subsection: {subsection_name}\")\n",
    "\n",
    "        # Find all h3 tags within this subsection\n",
    "        h3_tags = []\n",
    "        next_element = subsection.find_next()\n",
    "\n",
    "        while next_element and next_element.name != 'h2' and next_element.name != 'h1':\n",
    "            if next_element.name == 'h3':\n",
    "                h3_tags.append(next_element)\n",
    "\n",
    "            next_element = next_element.find_next()\n",
    "        \n",
    "        # Iterate through all p tags\n",
    "        for h3 in h3_tags:\n",
    "            task_name = norm(h3.get_text())\n",
    "            # print(f\"    Name: {task_name}\")\n",
    "\n",
    "            task = {\n",
    "                'Name': task_name,\n",
    "                'Description': '',\n",
    "                'Tags': list(set([section_name, subsection_name])),\n",
    "            }\n",
    "\n",
    "            # if task_name != 'Book Review Display':\n",
    "            #     continue\n",
    "\n",
    "            # Find all p tags within this h3 tag\n",
    "            p_tags = []\n",
    "            next_element = h3.find_next()\n",
    "            while next_element and next_element.name != 'h3' and next_element.name != 'h2' and next_element.name != 'h1':\n",
    "                if next_element.name == 'p':\n",
    "                    p_tags.append(next_element)\n",
    "                next_element = next_element.find_next()\n",
    "            \n",
    "            # Iterate through all p tags\n",
    "            has_text = False\n",
    "            for p in p_tags:\n",
    "                p_text = norm(p.get_text())\n",
    "                if not p_text:\n",
    "                    continue\n",
    "\n",
    "                has_text = True\n",
    "\n",
    "                task['Description'] = p_text\n",
    "                # print(f\"      {p_text}\")\n",
    "\n",
    "            # print('---------------------')\n",
    "\n",
    "            if p_tags and has_text:\n",
    "                # Find all ordered lists after this p tag before the next p tag or h3\n",
    "                list_items = []\n",
    "                next_element = p.find_next()\n",
    "                while next_element and next_element.name != 'p' and next_element.name != 'h3' and next_element.name != 'h2' and next_element.name != 'h1':\n",
    "                    if next_element.name in ['ol', 'ul']:\n",
    "                        list_items.append((next_element.name, next_element))\n",
    "                    next_element = next_element.find_next()\n",
    "\n",
    "            else:\n",
    "                list_items = []\n",
    "                next_element = h3.find_next()\n",
    "                while next_element and next_element.name != 'h3' and next_element.name != 'h2' and next_element.name != 'h1':\n",
    "                    if next_element.name in ['ol', 'ul']:\n",
    "                        list_items.append((next_element.name, next_element))\n",
    "                    next_element = next_element.find_next()\n",
    "                            \n",
    "            \n",
    "            # Iterate through all list items in the order they appear\n",
    "            for list_type, list_element in list_items:\n",
    "                if list_type == 'ol':\n",
    "                    # print(f\"      Ordered List:\")\n",
    "                    spacing = \"\\n\\t\"\n",
    "                else:\n",
    "                    # print(f\"      Unordered List:\")\n",
    "                    spacing = \"\\n\\t\\t\"\n",
    "\n",
    "                # Check if the list contains an h3 tag\n",
    "                if list_element.find('h3'):\n",
    "                    # If h3 is found, not a part of this list\n",
    "                    continue\n",
    "                \n",
    "                for li in list_element.find_all('li'):\n",
    "                    li_text = norm(li.get_text())\n",
    "                    task['Description'] += f\"{spacing}- {li_text}\"\n",
    "\n",
    "            tasks.append(task)\n",
    "\n",
    "    # print()  # Add a blank line for readability between sections"
   ]
  },
  {
   "cell_type": "code",
   "execution_count": 92,
   "metadata": {},
   "outputs": [],
   "source": [
    "import pandas as pd"
   ]
  },
  {
   "cell_type": "code",
   "execution_count": 93,
   "metadata": {},
   "outputs": [],
   "source": [
    "df = pd.DataFrame(tasks)"
   ]
  },
  {
   "cell_type": "code",
   "execution_count": 95,
   "metadata": {},
   "outputs": [],
   "source": [
    "df.to_csv('FrontendSensai.csv')"
   ]
  },
  {
   "cell_type": "code",
   "execution_count": null,
   "metadata": {},
   "outputs": [],
   "source": []
  },
  {
   "cell_type": "code",
   "execution_count": null,
   "metadata": {},
   "outputs": [],
   "source": []
  },
  {
   "cell_type": "code",
   "execution_count": null,
   "metadata": {},
   "outputs": [],
   "source": []
  },
  {
   "cell_type": "code",
   "execution_count": null,
   "metadata": {},
   "outputs": [],
   "source": []
  },
  {
   "cell_type": "code",
   "execution_count": null,
   "metadata": {},
   "outputs": [],
   "source": []
  },
  {
   "cell_type": "code",
   "execution_count": 29,
   "metadata": {},
   "outputs": [
    {
     "data": {
      "text/plain": [
       "<ol class=\"c6 lst-kix_cy7qa9umb8yt-1\" start=\"2\">\n",
       "<li class=\"c4 li-bullet-0\"><span class=\"c0\">Adding Metadata</span></li>\n",
       "</ol>"
      ]
     },
     "execution_count": 29,
     "metadata": {},
     "output_type": "execute_result"
    }
   ],
   "source": [
    "next_element = p.find_next('ol')\n",
    "ol_elements = []\n",
    "\n",
    "while next_element and next_element.name != 'h2':\n",
    "    if next_element.name == 'ol':\n",
    "        ol_elements.append(next_element)\n",
    "    next_element = next_element.find_next()\n",
    "\n",
    "ol_elements"
   ]
  },
  {
   "cell_type": "code",
   "execution_count": null,
   "metadata": {},
   "outputs": [],
   "source": []
  },
  {
   "cell_type": "code",
   "execution_count": 1,
   "metadata": {},
   "outputs": [
    {
     "ename": "NameError",
     "evalue": "name 'sections' is not defined",
     "output_type": "error",
     "traceback": [
      "\u001b[0;31m---------------------------------------------------------------------------\u001b[0m",
      "\u001b[0;31mNameError\u001b[0m                                 Traceback (most recent call last)",
      "Cell \u001b[0;32mIn[1], line 1\u001b[0m\n\u001b[0;32m----> 1\u001b[0m \u001b[38;5;28;01mfor\u001b[39;00m section \u001b[38;5;129;01min\u001b[39;00m \u001b[43msections\u001b[49m:\n\u001b[1;32m      2\u001b[0m    name \u001b[38;5;241m=\u001b[39m section\u001b[38;5;241m.\u001b[39mget_text()\n\u001b[1;32m      3\u001b[0m    description_tag \u001b[38;5;241m=\u001b[39m section\u001b[38;5;241m.\u001b[39mfind_next(\u001b[38;5;124m'\u001b[39m\u001b[38;5;124mp\u001b[39m\u001b[38;5;124m'\u001b[39m)\n",
      "\u001b[0;31mNameError\u001b[0m: name 'sections' is not defined"
     ]
    }
   ],
   "source": [
    "for section in sections:\n",
    "   name = section.get_text()\n",
    "   description_tag = section.find_next('p')\n",
    "   description = description_tag.get_text() if description_tag else \"\"\n",
    "   \n",
    "   # Find all the list items (assuming they contain the details)\n",
    "   list_items = section.find_next('ul').find_all('li')\n",
    "   details = \" \".join([item.get_text() for item in list_items])"
   ]
  },
  {
   "cell_type": "code",
   "execution_count": null,
   "metadata": {},
   "outputs": [],
   "source": []
  }
 ],
 "metadata": {
  "kernelspec": {
   "display_name": "Python 3",
   "language": "python",
   "name": "python3"
  },
  "language_info": {
   "codemirror_mode": {
    "name": "ipython",
    "version": 3
   },
   "file_extension": ".py",
   "mimetype": "text/x-python",
   "name": "python",
   "nbconvert_exporter": "python",
   "pygments_lexer": "ipython3",
   "version": "3.9.6"
  }
 },
 "nbformat": 4,
 "nbformat_minor": 2
}
